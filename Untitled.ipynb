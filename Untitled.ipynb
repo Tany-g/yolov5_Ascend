{
 "cells": [
  {
   "cell_type": "code",
   "execution_count": 2,
   "id": "2e29e6ba-a95e-4cab-8a5f-a9c41cb46ca2",
   "metadata": {},
   "outputs": [],
   "source": [
    "import torch"
   ]
  },
  {
   "cell_type": "code",
   "execution_count": 3,
   "id": "caf9de55-0f81-4153-853c-ea5bca1e67db",
   "metadata": {},
   "outputs": [],
   "source": [
    "a=torch.tensor((2,4))"
   ]
  },
  {
   "cell_type": "code",
   "execution_count": 4,
   "id": "0800b7ec-daa7-4f0d-bc56-52c398f82d64",
   "metadata": {},
   "outputs": [
    {
     "data": {
      "text/plain": [
       "tensor([2, 4])"
      ]
     },
     "execution_count": 4,
     "metadata": {},
     "output_type": "execute_result"
    }
   ],
   "source": [
    "a"
   ]
  },
  {
   "cell_type": "code",
   "execution_count": null,
   "id": "53dca2c6-6fda-4f50-a44a-272c71f08888",
   "metadata": {},
   "outputs": [],
   "source": [
    "modelarts 调试模式启动训练作业后，\n",
    "1容器在线安装依赖包，\n",
    "2以及持久化容器依赖到swr镜像仓库。"
   ]
  },
  {
   "cell_type": "code",
   "execution_count": null,
   "id": "18b095ea-5575-42e0-9389-f62a62b578e9",
   "metadata": {},
   "outputs": [],
   "source": []
  }
 ],
 "metadata": {
  "kernelspec": {
   "display_name": "yolov5",
   "language": "python",
   "name": "py10"
  },
  "language_info": {
   "codemirror_mode": {
    "name": "ipython",
    "version": 3
   },
   "file_extension": ".py",
   "mimetype": "text/x-python",
   "name": "python",
   "nbconvert_exporter": "python",
   "pygments_lexer": "ipython3",
   "version": "3.9.2"
  }
 },
 "nbformat": 4,
 "nbformat_minor": 5
}
